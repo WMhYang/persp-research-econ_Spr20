{
 "cells": [
  {
   "cell_type": "markdown",
   "metadata": {},
   "source": [
    "# Problem Set #4\n",
    "MACS 30250, Dr. Evans  \n",
    "Minghao Yang"
   ]
  },
  {
   "cell_type": "code",
   "execution_count": 1,
   "metadata": {},
   "outputs": [],
   "source": [
    "# Import the necessary libraries\n",
    "import pandas as pd\n",
    "import numpy as np\n",
    "import scipy.optimize as opt\n",
    "import matplotlib.pyplot as plt\n",
    "import timeit"
   ]
  },
  {
   "cell_type": "markdown",
   "metadata": {},
   "source": [
    "## 1. Exercise 2.1"
   ]
  },
  {
   "cell_type": "code",
   "execution_count": 2,
   "metadata": {},
   "outputs": [],
   "source": [
    "# Define necessary functions\n",
    "def U(c, sigma):\n",
    "    return (c ** (1 - sigma) - 1) * (1 - sigma)\n",
    "\n",
    "def MU(c, sigma):\n",
    "    return c ** (-sigma)\n",
    "\n",
    "def Y(K, L, A, alpha):\n",
    "    return A * (K ** alpha) * (L ** (1 - alpha))\n",
    "\n",
    "def r_opt(K, L, A, alpha, delta):\n",
    "    return alpha * A * (L / K) ** (1 - alpha) - delta\n",
    "\n",
    "def w_opt(K, L, A, alpha):\n",
    "    return (1 - alpha) * A * (K / L) ** alpha\n",
    "\n",
    "def L_clear(nvec):\n",
    "    return nvec.sum()\n",
    "\n",
    "def K_clear(bvec):\n",
    "    return bvec.sum()"
   ]
  },
  {
   "cell_type": "code",
   "execution_count": 3,
   "metadata": {},
   "outputs": [],
   "source": [
    "# Calibration\n",
    "nvec = np.array([1, 1, 0.2])\n",
    "beta = 0.96 ** 20\n",
    "delta = 1 - (1 - 0.05) ** 20\n",
    "sigma = 3\n",
    "A = 1\n",
    "alpha = 0.35\n",
    "\n",
    "f_params = (nvec, A, alpha, delta)"
   ]
  },
  {
   "cell_type": "code",
   "execution_count": 4,
   "metadata": {},
   "outputs": [],
   "source": [
    "# Define the feasible function\n",
    "def feasible(f_params, bvec_guess):\n",
    "    nvec, A, alpha, delta = f_params\n",
    "    bvec = bvec_guess\n",
    "    L = L_clear(nvec)\n",
    "    K = K_clear(bvec)\n",
    "    w = w_opt(K, L, A, alpha)\n",
    "    r = r_opt(K, L, A, alpha, delta)\n",
    "    c1 = nvec[0] * w - bvec[0]\n",
    "    c2 = nvec[1] * w + (1 + r) * bvec[0] - bvec[1]\n",
    "    c3 = nvec[2] * w + (1 + r) * bvec[1]\n",
    "    \n",
    "    return (np.array([c1 <= 0 or c2 <= 0, c2 <= 0]), \n",
    "            np.array([c1 <= 0, c2 <= 0, c3 <= 0]), \n",
    "            np.array([K <= 0]))"
   ]
  },
  {
   "cell_type": "markdown",
   "metadata": {},
   "source": [
    "### (a)"
   ]
  },
  {
   "cell_type": "code",
   "execution_count": 5,
   "metadata": {},
   "outputs": [
    {
     "data": {
      "text/plain": [
       "(array([ True, False]), array([ True, False, False]), array([False]))"
      ]
     },
     "execution_count": 5,
     "metadata": {},
     "output_type": "execute_result"
    }
   ],
   "source": [
    "feasible(f_params, np.array([1.0, 1.2]))"
   ]
  },
  {
   "cell_type": "markdown",
   "metadata": {},
   "source": [
    "The consumption should be nonnegative in period 1."
   ]
  },
  {
   "cell_type": "markdown",
   "metadata": {},
   "source": [
    "### (b)"
   ]
  },
  {
   "cell_type": "code",
   "execution_count": 6,
   "metadata": {},
   "outputs": [
    {
     "data": {
      "text/plain": [
       "(array([False, False]), array([False, False, False]), array([False]))"
      ]
     },
     "execution_count": 6,
     "metadata": {},
     "output_type": "execute_result"
    }
   ],
   "source": [
    "feasible(f_params, np.array([0.06, -0.001]))"
   ]
  },
  {
   "cell_type": "markdown",
   "metadata": {},
   "source": [
    "Every constraint is satisfied."
   ]
  },
  {
   "cell_type": "markdown",
   "metadata": {},
   "source": [
    "### (c)"
   ]
  },
  {
   "cell_type": "code",
   "execution_count": 7,
   "metadata": {},
   "outputs": [
    {
     "data": {
      "text/plain": [
       "(array([False, False]), array([False, False, False]), array([False]))"
      ]
     },
     "execution_count": 7,
     "metadata": {},
     "output_type": "execute_result"
    }
   ],
   "source": [
    "feasible(f_params, np.array([0.1, 0.1]))"
   ]
  },
  {
   "cell_type": "markdown",
   "metadata": {},
   "source": [
    "Every constraint is satisfied."
   ]
  },
  {
   "cell_type": "markdown",
   "metadata": {},
   "source": [
    "## 2. Exercise 2.2"
   ]
  },
  {
   "cell_type": "code",
   "execution_count": 8,
   "metadata": {},
   "outputs": [],
   "source": [
    "# Define a function returning Euler equations\n",
    "def Euler_eq(bvec, *args):\n",
    "    beta, sigma, nvec, A, alpha, delta = args\n",
    "    K = K_clear(bvec)\n",
    "    L = L_clear(nvec)\n",
    "    w = w_opt(K, L, A, alpha)\n",
    "    r = r_opt(K, L, A, alpha, delta)\n",
    "    c1 = nvec[0] * w - bvec[0]\n",
    "    c2 = nvec[1] * w + (1 + r) * bvec[0] - bvec[1]\n",
    "    c3 = nvec[2] * w + (1 + r) * bvec[1]\n",
    "    MU1 = MU(c1, sigma)\n",
    "    MU2 = MU(c2, sigma)\n",
    "    MU3 = MU(c3, sigma)\n",
    "    return np.array([MU1 - beta * (1 + r) * MU2, \n",
    "                     MU2 - beta * (1 + r) * MU3])"
   ]
  },
  {
   "cell_type": "code",
   "execution_count": 9,
   "metadata": {},
   "outputs": [],
   "source": [
    "# Define the function for solving steady-states (The argument L in params is redundent, so I drop it)\n",
    "def get_SS(params, bvec_guess, SS_graphs=True):\n",
    "    beta, sigma, nvec, A, alpha, delta, SS_tol = params\n",
    "    start_time = timeit.default_timer()\n",
    "    args = (beta, sigma, nvec, A, alpha, delta)\n",
    "    b_ss = opt.root(Euler_eq, bvec_guess, tol=SS_tol, args=(args)).x\n",
    "    K_ss = K_clear(b_ss)\n",
    "    L_ss = L_clear(nvec)\n",
    "    w_ss = w_opt(K_ss, L_ss, A, alpha)\n",
    "    r_ss = r_opt(K_ss, L_ss, A, alpha, delta)\n",
    "    c1_ss = nvec[0] * w_ss - b_ss[0]\n",
    "    c2_ss = nvec[1] * w_ss + (1 + r_ss) * b_ss[0] - b_ss[1]\n",
    "    c3_ss = nvec[2] * w_ss + (1 + r_ss) * b_ss[1]\n",
    "    c_ss = np.array([c1_ss, c2_ss, c3_ss])\n",
    "    Y_ss = Y(K_ss, L_ss, A, alpha)\n",
    "    C_ss = c_ss.sum()\n",
    "    EulErr_ss = Euler_eq(b_ss, *args)\n",
    "    RCerr_ss = Y_ss - C_ss - delta * K_ss      \n",
    "    ss_time = timeit.default_timer() - start_time\n",
    "    ss_output = {\n",
    "        'b_ss': b_ss, 'c_ss': c_ss, 'w_ss': w_ss, 'r_ss': r_ss, \n",
    "        'K_ss': K_ss, 'Y_ss': Y_ss, 'C_ss': C_ss, \n",
    "        'EulErr_ss': EulErr_ss, 'RCerr_ss': RCerr_ss, \n",
    "        'ss_time': ss_time \n",
    "    }\n",
    "    \n",
    "    if SS_graphs:\n",
    "        x = np.arange(3)\n",
    "        plt.bar(x, c_ss)\n",
    "        plt.xticks(x, ('$c_{1}$', '$c_{2}$', '$c_{3}$'))\n",
    "        plt.title('Steady-state distribution of consumption')\n",
    "        plt.show()\n",
    "        plt.bar(x, [0, b_ss[0], b_ss[1]])\n",
    "        plt.xticks(x, (' ', '$b_{2}$', '$b_{3}$'))\n",
    "        plt.title('Steady-state distribution of savings')\n",
    "        plt.show()\n",
    "    \n",
    "    return ss_output   "
   ]
  },
  {
   "cell_type": "markdown",
   "metadata": {},
   "source": [
    "### (a) & (b)"
   ]
  },
  {
   "cell_type": "code",
   "execution_count": 10,
   "metadata": {},
   "outputs": [
    {
     "data": {
      "image/png": "[encoded data removed]",
      "text/plain": [
       "<Figure size 432x288 with 1 Axes>"
      ]
     },
     "metadata": {
      "needs_background": "light"
     },
     "output_type": "display_data"
    },
    {
     "data": {
      "image/png": "[encoded data removed]",
      "text/plain": [
       "<Figure size 432x288 with 1 Axes>"
      ]
     },
     "metadata": {
      "needs_background": "light"
     },
     "output_type": "display_data"
    },
    {
     "data": {
      "text/plain": [
       "{'b_ss': array([0.01931274, 0.05841159]),\n",
       " 'c_ss': array([0.18241256, 0.20961491, 0.24087382]),\n",
       " 'w_ss': 0.2017252935955733,\n",
       " 'r_ss': 2.4330302535646116,\n",
       " 'K_ss': 0.07772432611811347,\n",
       " 'Y_ss': 0.6827625321696328,\n",
       " 'C_ss': 0.6329012827935535,\n",
       " 'EulErr_ss': array([-1.33582034e-12,  2.67164069e-12]),\n",
       " 'RCerr_ss': 3.469446951953614e-17,\n",
       " 'ss_time': 0.001258999999999677}"
      ]
     },
     "execution_count": 10,
     "metadata": {},
     "output_type": "execute_result"
    }
   ],
   "source": [
    "SS_tol = 1e-10\n",
    "params = (beta, sigma, nvec, A, alpha, delta, SS_tol)\n",
    "get_SS(params, np.array([0.1, 0.1]), SS_graphs=True)"
   ]
  },
  {
   "cell_type": "markdown",
   "metadata": {},
   "source": [
    "### (c)"
   ]
  },
  {
   "cell_type": "code",
   "execution_count": 11,
   "metadata": {},
   "outputs": [
    {
     "data": {
      "text/plain": [
       "{'b_ss': array([0.02817696, 0.07686557]),\n",
       " 'c_ss': array([0.19597535, 0.22861559, 0.26669216]),\n",
       " 'w_ss': 0.22415231191003315,\n",
       " 'r_ss': 1.8863599991452351,\n",
       " 'K_ss': 0.10504252550764615,\n",
       " 'Y_ss': 0.7586693633878046,\n",
       " 'C_ss': 0.6912831045288896,\n",
       " 'EulErr_ss': array([-2.84217094e-14, -2.84217094e-14]),\n",
       " 'RCerr_ss': 9.71445146547012e-17,\n",
       " 'ss_time': 0.0006210000000002047}"
      ]
     },
     "execution_count": 11,
     "metadata": {},
     "output_type": "execute_result"
    }
   ],
   "source": [
    "params = (0.55, sigma, nvec, A, alpha, delta, SS_tol)\n",
    "get_SS(params, np.array([0.1, 0.1]), SS_graphs=False)"
   ]
  },
  {
   "cell_type": "markdown",
   "metadata": {},
   "source": [
    "Compared with (a), $\\bar{c}_1$, $\\bar{c}_2$, $\\bar{c}_3$, $\\bar{b}_2$, $\\bar{b}_3$, and $\\bar{w}$ increase, but $\\bar{r}$ decreases. If $\\beta$ becomes larger, households will become more patient, so they are willing to save more and consume in later periods. Hence, the wealth of each household becomes higher, enabling them to consume more in each period. Given that more capital is available in the market, the price of capital will fall. On the other hand, the marginal productivity of labor increases because each labor unit is assigned with more capital, so wage will also increase in equilibrium. "
   ]
  },
  {
   "cell_type": "markdown",
   "metadata": {},
   "source": [
    "## 3. Exercise 2.3"
   ]
  },
  {
   "cell_type": "code",
   "execution_count": 12,
   "metadata": {},
   "outputs": [],
   "source": [
    "# Initialize parameters\n",
    "T = 40\n",
    "m = 8\n",
    "epsilon = 1e-9\n",
    "xi = 0.1\n",
    "params = (beta, sigma, nvec, A, alpha, delta, SS_tol)\n",
    "b_ss = get_SS(params, np.array([0.1, 0.1]), SS_graphs=False)['b_ss']\n",
    "b21, b31 = (0.8 * b_ss[0], 1.1 * b_ss[1])\n",
    "K1 = K_clear(np.array([b21, b31]))\n",
    "K_ss = K_clear(b_ss)"
   ]
  },
  {
   "cell_type": "code",
   "execution_count": 13,
   "metadata": {},
   "outputs": [],
   "source": [
    "# Define the Euler equations\n",
    "def Euler_eq_first_period(b32, *args):\n",
    "    b21, w_path, r_path, beta, sigma, nvec = args\n",
    "    c2 = nvec[1] * w_path[0] + (1 + r_path[0]) * b21 - b32\n",
    "    c3 = nvec[2] * w_path[1] + (1 + r_path[1]) * b32\n",
    "    MU2 = MU(c2, sigma)\n",
    "    MU3 = MU(c3, sigma)\n",
    "    return MU2 - beta * (1 + r_path[1]) * MU3\n",
    "\n",
    "def Euler_eq_other_periods(bvec, *args):\n",
    "    t, w_path, r_path, beta, sigma, nvec = args\n",
    "    c1 = nvec[0] * w_path[t - 1] - bvec[0]\n",
    "    c2 = nvec[1] * w_path[t] + (1 + r_path[t]) * bvec[0] - bvec[1]\n",
    "    c3 = nvec[2] * w_path[t + 1] + (1 + r_path[t + 1]) * bvec[1]\n",
    "    MU1 = MU(c1, sigma)\n",
    "    MU2 = MU(c2, sigma)\n",
    "    MU3 = MU(c3, sigma)\n",
    "    return np.array([MU1 - beta * (1 + r_path[t]) * MU2, MU2 - beta * (1 + r_path[t + 1]) * MU3])"
   ]
  },
  {
   "cell_type": "code",
   "execution_count": 14,
   "metadata": {},
   "outputs": [],
   "source": [
    "# Define a funtion to calculate the path of capital\n",
    "def K_path_prime_cal(T, params, bvec_guess):\n",
    "    b21, b31, K_path, L_path, beta, sigma, nvec, A, alpha, delta, SS_tol = params\n",
    "    w_path = w_opt(K_path, L_path, A, alpha)\n",
    "    r_path = r_opt(K_path, L_path, A, alpha, delta)\n",
    "    K_path_prime = [0] * (T - 1)\n",
    "    C_path_prime = [0] * (T - 1)\n",
    "    EulErr_path_prime_2 = [0]\n",
    "    EulErr_path_prime_3 = []\n",
    "    b2_path_prime = [b21]\n",
    "    b3_path_prime = [b31]\n",
    "    c1_path_prime = [0] * (T - 1)\n",
    "    c2_path_prime = [0] * T\n",
    "    c3_path_prime = [nvec[2] * w_path[0] + (1 + r_path[0]) * b31] + [0] * T\n",
    "    for t in range(T - 1):\n",
    "        if t == 0: # solve for b32\n",
    "            args = (b21, w_path, r_path, beta, sigma, nvec)\n",
    "            # saving path\n",
    "            b32 = opt.root(Euler_eq_first_period, bvec_guess[1], tol=SS_tol, args=(args)).x[0]\n",
    "            b3_path_prime.append(b32)\n",
    "            # consumption path\n",
    "            c2 = nvec[1] * w_path[0] + (1 + r_path[0]) * b21 - b32\n",
    "            c3 = nvec[2] * w_path[1] + (1 + r_path[1]) * b32\n",
    "            c2_path_prime[t] = c2\n",
    "            c3_path_prime[t + 1] = c3\n",
    "            # Euler equation errors path\n",
    "            EulErr_path_prime_3.append(abs(Euler_eq_first_period(b32, *args)))\n",
    "        else: # solve for b_{t+1, 2} and b_{t+2, 3}\n",
    "            args = (t, w_path, r_path, beta, sigma, nvec)\n",
    "            # saving and capital path\n",
    "            btp12, btp23 = opt.root(Euler_eq_other_periods, bvec_guess, tol=SS_tol, args=(args)).x\n",
    "            b2_path_prime.append(btp12)\n",
    "            b3_path_prime.append(btp23)\n",
    "            K_path_prime[t - 1] = b2_path_prime[t - 1] + b3_path_prime[t - 1]\n",
    "            # consumption path\n",
    "            c1 = nvec[0] * w_path[t - 1] - btp12\n",
    "            c2 = nvec[1] * w_path[t] + (1 + r_path[t]) * btp12 - btp23\n",
    "            c3 = nvec[2] * w_path[t + 1] + (1 + r_path[t + 1]) * btp23\n",
    "            c1_path_prime[t - 1] = c1\n",
    "            c2_path_prime[t] = c2\n",
    "            c3_path_prime[t + 1] = c3\n",
    "            C_path_prime[t - 1] = c1_path_prime[t - 1] + c2_path_prime[t - 1] + c3_path_prime[t - 1]\n",
    "            # Euler equation errors path\n",
    "            EulErr_path_prime_2.append(abs(Euler_eq_other_periods(np.array([btp12, btp23]), *args)[0]))\n",
    "            EulErr_path_prime_3.append(abs(Euler_eq_other_periods(np.array([btp12, btp23]), *args)[1]))\n",
    "    # Production path\n",
    "    Y_path_prime = Y(np.array(K_path_prime)[:T - 3], L_path[:T - 3], A, alpha)\n",
    "    # Recourse constraint path\n",
    "    RCerr_path_prime = abs(Y_path_prime - np.array(C_path_prime)[:T - 3] \n",
    "                           - np.array(K_path_prime)[1: T - 2] \n",
    "                           + (1 - delta) * np.array(K_path_prime)[:T - 3])\n",
    "    return (np.array(K_path_prime)[:T - 3], \n",
    "            np.array([max(EulErr_path_prime_2[:T - 3]), max(EulErr_path_prime_3[:T - 3])]), \n",
    "            np.array([max(RCerr_path_prime)]))"
   ]
  },
  {
   "cell_type": "code",
   "execution_count": 15,
   "metadata": {},
   "outputs": [
    {
     "name": "stdout",
     "output_type": "stream",
     "text": [
      "Iteration 1: The distance between K and K_prime is 3.331457480072446e-05\n",
      "Iteration 2: The distance between K and K_prime is 2.806693412109667e-05\n",
      "Iteration 3: The distance between K and K_prime is 2.374978057984588e-05\n",
      "Iteration 4: The distance between K and K_prime is 2.01805673635834e-05\n",
      "Iteration 5: The distance between K and K_prime is 1.7215321892317838e-05\n",
      "Iteration 6: The distance between K and K_prime is 1.4740076313475471e-05\n",
      "Iteration 7: The distance between K and K_prime is 1.2664265771302853e-05\n",
      "Iteration 8: The distance between K and K_prime is 1.091563231017859e-05\n",
      "Iteration 9: The distance between K and K_prime is 9.436282569482064e-06\n",
      "Iteration 10: The distance between K and K_prime is 8.179631085675833e-06\n",
      "Iteration 11: The distance between K and K_prime is 7.108024525412868e-06\n",
      "Iteration 12: The distance between K and K_prime is 6.190890432227406e-06\n",
      "Iteration 13: The distance between K and K_prime is 5.403290779247455e-06\n",
      "Iteration 14: The distance between K and K_prime is 4.724788576874644e-06\n",
      "Iteration 15: The distance between K and K_prime is 4.138557100475897e-06\n",
      "Iteration 16: The distance between K and K_prime is 3.6306775768544866e-06\n",
      "Iteration 17: The distance between K and K_prime is 3.18958360911002e-06\n",
      "Iteration 18: The distance between K and K_prime is 2.805620143610926e-06\n",
      "Iteration 19: The distance between K and K_prime is 2.4706920847686146e-06\n",
      "Iteration 20: The distance between K and K_prime is 2.17798327021591e-06\n",
      "Iteration 21: The distance between K and K_prime is 1.921730831272235e-06\n",
      "Iteration 22: The distance between K and K_prime is 1.6970432857064289e-06\n",
      "Iteration 23: The distance between K and K_prime is 1.4997532736613917e-06\n",
      "Iteration 24: The distance between K and K_prime is 1.3262978297992607e-06\n",
      "Iteration 25: The distance between K and K_prime is 1.173620620267241e-06\n",
      "Iteration 26: The distance between K and K_prime is 1.0390917648802673e-06\n",
      "Iteration 27: The distance between K and K_prime is 9.204417919320534e-07\n",
      "Iteration 28: The distance between K and K_prime is 8.157069956520578e-07\n",
      "Iteration 29: The distance between K and K_prime is 7.231840309004608e-07\n",
      "Iteration 30: The distance between K and K_prime is 6.413920218570317e-07\n",
      "Iteration 31: The distance between K and K_prime is 5.690408086323626e-07\n",
      "Iteration 32: The distance between K and K_prime is 5.050042290393152e-07\n",
      "Iteration 33: The distance between K and K_prime is 4.4829754852507865e-07\n",
      "Iteration 34: The distance between K and K_prime is 3.9805832208980154e-07\n",
      "Iteration 35: The distance between K and K_prime is 3.535301076833642e-07\n",
      "Iteration 36: The distance between K and K_prime is 3.1404855865138066e-07\n",
      "Iteration 37: The distance between K and K_prime is 2.790295091953742e-07\n",
      "Iteration 38: The distance between K and K_prime is 2.4795873610795273e-07\n",
      "Iteration 39: The distance between K and K_prime is 2.2038313582258878e-07\n",
      "Iteration 40: The distance between K and K_prime is 1.959031008842226e-07\n",
      "Iteration 41: The distance between K and K_prime is 1.7416591649536148e-07\n",
      "Iteration 42: The distance between K and K_prime is 1.5486002754685754e-07\n",
      "Iteration 43: The distance between K and K_prime is 1.3771005086292948e-07\n",
      "Iteration 44: The distance between K and K_prime is 1.2247242734714287e-07\n",
      "Iteration 45: The distance between K and K_prime is 1.0893162515893181e-07\n",
      "Iteration 46: The distance between K and K_prime is 9.689681865259096e-08\n",
      "Iteration 47: The distance between K and K_prime is 8.61989791067224e-08\n",
      "Iteration 48: The distance between K and K_prime is 7.668832269268766e-08\n",
      "Iteration 49: The distance between K and K_prime is 6.823206901495679e-08\n",
      "Iteration 50: The distance between K and K_prime is 6.071247018224256e-08\n",
      "Iteration 51: The distance between K and K_prime is 5.4025075955691634e-08\n",
      "Iteration 52: The distance between K and K_prime is 4.807720525066539e-08\n",
      "Iteration 53: The distance between K and K_prime is 4.278659828493079e-08\n",
      "Iteration 54: The distance between K and K_prime is 3.808022708956048e-08\n",
      "Iteration 55: The distance between K and K_prime is 3.389324502465506e-08\n",
      "Iteration 56: The distance between K and K_prime is 3.016805845050454e-08\n",
      "Iteration 57: The distance between K and K_prime is 2.6853505861643377e-08\n",
      "Iteration 58: The distance between K and K_prime is 2.390413165031077e-08\n",
      "Iteration 59: The distance between K and K_prime is 2.127954327248671e-08\n",
      "Iteration 60: The distance between K and K_prime is 1.89438419811903e-08\n",
      "Iteration 61: The distance between K and K_prime is 1.686511849948891e-08\n",
      "Iteration 62: The distance between K and K_prime is 1.501500605627415e-08\n",
      "Iteration 63: The distance between K and K_prime is 1.3368284122984312e-08\n",
      "Iteration 64: The distance between K and K_prime is 1.190252698866514e-08\n",
      "Iteration 65: The distance between K and K_prime is 1.059779200871644e-08\n",
      "Iteration 66: The distance between K and K_prime is 9.436342974449249e-09\n",
      "Iteration 67: The distance between K and K_prime is 8.402404586222762e-09\n",
      "Iteration 68: The distance between K and K_prime is 7.481944483452886e-09\n",
      "Iteration 69: The distance between K and K_prime is 6.662479698097206e-09\n",
      "Iteration 70: The distance between K and K_prime is 5.932904761578591e-09\n",
      "Iteration 71: The distance between K and K_prime is 5.283339015320448e-09\n",
      "Iteration 72: The distance between K and K_prime is 4.704990956927583e-09\n",
      "Iteration 73: The distance between K and K_prime is 4.1900377028041376e-09\n",
      "Iteration 74: The distance between K and K_prime is 3.731517867325481e-09\n",
      "Iteration 75: The distance between K and K_prime is 3.323236352586561e-09\n",
      "Iteration 76: The distance between K and K_prime is 2.9596797139116792e-09\n",
      "Iteration 77: The distance between K and K_prime is 2.635940917611582e-09\n",
      "Iteration 78: The distance between K and K_prime is 2.3476524415689072e-09\n",
      "Iteration 79: The distance between K and K_prime is 2.0909267874517732e-09\n",
      "Iteration 80: The distance between K and K_prime is 1.8623035785361516e-09\n",
      "Iteration 81: The distance between K and K_prime is 1.6587025098381878e-09\n",
      "Iteration 82: The distance between K and K_prime is 1.4773814996401657e-09\n",
      "Iteration 83: The distance between K and K_prime is 1.3158994645285461e-09\n",
      "Iteration 84: The distance between K and K_prime is 1.172083204605311e-09\n",
      "Iteration 85: The distance between K and K_prime is 1.04399794305378e-09\n",
      "Iteration 86: The distance between K and K_prime is 9.299211150545026e-10\n",
      "The algorithm converges after 86 iterations.\n",
      "The maximum of the absolute values of all the Euler errors across the entire time path are [2.27373675e-13 9.94759830e-14].\n",
      "The maximum of the absolute value of all the resource constraint errors across the entire time path is [8.02925018e-10].\n"
     ]
    }
   ],
   "source": [
    "# Solve the problem by TPI\n",
    "K_path = np.linspace(K1, K_ss, T)\n",
    "K_path = np.append(K_path, np.array([K_ss] * m))\n",
    "L_path = np.ones(T + m) * L_clear(nvec)\n",
    "i = 0\n",
    "max_iter = 200\n",
    "while True:\n",
    "    params = np.array([b21, b31, K_path, L_path, beta, sigma, nvec, A, alpha, delta, SS_tol])\n",
    "    K_path_prime, max_EulErr, max_RCerr = K_path_prime_cal(T + m, params, np.array([0.1, 0.1]))\n",
    "    K_dist = ((K_path[:40] - K_path_prime[:40]) ** 2).sum()\n",
    "    print(\"Iteration {}: The distance between K and K_prime is {}\".format(i + 1, K_dist))\n",
    "    if K_dist < epsilon:\n",
    "        print(\"The algorithm converges after {} iterations.\".format(i + 1))\n",
    "        print(\"The maximum of the absolute values of all the Euler errors\",  \n",
    "              \"across the entire time path are {}.\".format(max_EulErr))\n",
    "        print(\"The maximum of the absolute value of all the resource constraint errors\", \n",
    "              \"across the entire time path is {}.\".format(max_RCerr))\n",
    "        break\n",
    "    else:\n",
    "        K_path = xi * K_path_prime + (1 - xi) * K_path[:K_path_prime.shape[0]]\n",
    "        K_path = np.append(K_path, [K_ss] * (T + m - K_path_prime.shape[0]))\n",
    "        i += 1\n",
    "    if i >= max_iter:\n",
    "        print(\"The algorithm fails to converge after {} iterations.\".format(i + 1))\n",
    "    "
   ]
  },
  {
   "cell_type": "markdown",
   "metadata": {},
   "source": [
    "### (b)"
   ]
  },
  {
   "cell_type": "code",
   "execution_count": 16,
   "metadata": {},
   "outputs": [
    {
     "data": {
      "image/png": "[encoded data removed]",
      "text/plain": [
       "<Figure size 432x288 with 1 Axes>"
      ]
     },
     "metadata": {
      "needs_background": "light"
     },
     "output_type": "display_data"
    }
   ],
   "source": [
    "# Capital stock\n",
    "ax = plt.gca()\n",
    "ax.plot(range(1, T + 6), K_path_prime[: T + 5])\n",
    "ax.set_title(\"Equilibrium time path of capital stock\", fontsize=14)\n",
    "ax.set_xlabel(\"T\")\n",
    "ax.set_ylabel(\"K\")\n",
    "ax.spines['left'].set_position('zero')\n",
    "ax.spines['top'].set_visible(False)  \n",
    "ax.spines['right'].set_visible(False)\n",
    "plt.show()"
   ]
  },
  {
   "cell_type": "code",
   "execution_count": 17,
   "metadata": {},
   "outputs": [
    {
     "data": {
      "image/png": "[encoded data removed]",
      "text/plain": [
       "<Figure size 432x288 with 1 Axes>"
      ]
     },
     "metadata": {
      "needs_background": "light"
     },
     "output_type": "display_data"
    }
   ],
   "source": [
    "# Wage\n",
    "ax = plt.gca()\n",
    "ax.plot(range(1, T + 6), w_opt(K_path_prime[: T + 5], L_path[: T + 5], A, alpha))\n",
    "ax.set_title(\"Equilibrium time path of wage\", fontsize=14)\n",
    "ax.set_xlabel(\"T\")\n",
    "ax.set_ylabel(\"w\")\n",
    "ax.spines['left'].set_position('zero')\n",
    "ax.spines['top'].set_visible(False)  \n",
    "ax.spines['right'].set_visible(False)\n",
    "plt.show()"
   ]
  },
  {
   "cell_type": "code",
   "execution_count": 18,
   "metadata": {},
   "outputs": [
    {
     "data": {
      "image/png": "[encoded data removed]",
      "text/plain": [
       "<Figure size 432x288 with 1 Axes>"
      ]
     },
     "metadata": {
      "needs_background": "light"
     },
     "output_type": "display_data"
    }
   ],
   "source": [
    "# Interest rate\n",
    "ax = plt.gca()\n",
    "ax.plot(range(1, T + 6), r_opt(K_path_prime[: T + 5], L_path[: T + 5], A, alpha, delta))\n",
    "ax.set_title(\"Equilibrium time path of interest rate\", fontsize=14)\n",
    "ax.set_xlabel(\"T\")\n",
    "ax.set_ylabel(\"w\")\n",
    "ax.spines['left'].set_position('zero')\n",
    "ax.spines['top'].set_visible(False)  \n",
    "ax.spines['right'].set_visible(False)\n",
    "plt.show()"
   ]
  },
  {
   "cell_type": "markdown",
   "metadata": {},
   "source": [
    "### (c)"
   ]
  },
  {
   "cell_type": "code",
   "execution_count": 19,
   "metadata": {},
   "outputs": [
    {
     "name": "stdout",
     "output_type": "stream",
     "text": [
      "It takes 2 periods for the economy to deviate within the range of 0.00001 from the steady-state capital stock the first time.\n",
      "It takes 10 periods for the economy to deviate within the range of 0.00001 from the steady-state capital stock after that.\n"
     ]
    }
   ],
   "source": [
    "K_div = abs(K_path_prime - np.array([K_ss] * K_path_prime.shape[0]))\n",
    "loc1 = np.where(K_div < 1e-5)[0]\n",
    "print(\"It takes {} periods for the economy to deviate within the range of\".format(loc1.min()), \n",
    "      \"0.00001 from the steady-state capital stock the first time.\")\n",
    "for i in range(len(K_path_prime)):\n",
    "    if K_div[i] <= 1e-5:\n",
    "        mark_allinrange = 1\n",
    "        for j in range(i + 1, len(K_path_prime)):\n",
    "            if K_div[j] > 1e-5:\n",
    "                mark_allinrange = 0\n",
    "                break\n",
    "        if mark_allinrange:\n",
    "            print(\"It takes {} periods for the economy to deviate within the range of\".format(i), \n",
    "                  \"0.00001 from the steady-state capital stock after that.\")\n",
    "            break"
   ]
  },
  {
   "cell_type": "code",
   "execution_count": null,
   "metadata": {},
   "outputs": [],
   "source": []
  }
 ],
 "metadata": {
  "kernelspec": {
   "display_name": "Python 3",
   "language": "python",
   "name": "python3"
  },
  "language_info": {
   "codemirror_mode": {
    "name": "ipython",
    "version": 3
   },
   "file_extension": ".py",
   "mimetype": "text/x-python",
   "name": "python",
   "nbconvert_exporter": "python",
   "pygments_lexer": "ipython3",
   "version": "3.7.7"
  }
 },
 "nbformat": 4,
 "nbformat_minor": 2
}
